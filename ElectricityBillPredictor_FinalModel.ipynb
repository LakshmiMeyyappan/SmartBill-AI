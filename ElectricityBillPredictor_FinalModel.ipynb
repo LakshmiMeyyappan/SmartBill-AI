{
 "cells": [
  {
   "cell_type": "code",
   "execution_count": 33,
   "id": "ef8962c9-639b-4ee1-8a2c-d252a9b745a6",
   "metadata": {},
   "outputs": [],
   "source": [
    "import pickle\n",
    "import pandas as pd"
   ]
  },
  {
   "cell_type": "code",
   "execution_count": 35,
   "id": "361d935a-1ccc-49b5-90cb-e1109af12759",
   "metadata": {},
   "outputs": [],
   "source": [
    "#load the saved model\n",
    "\n",
    "loaded_model = pickle.load(open(\"finalized_model.sav\", \"rb\"))\n",
    "selected_features = pickle.load(open(\"selected_features.sav\", \"rb\"))"
   ]
  },
  {
   "cell_type": "code",
   "execution_count": 37,
   "id": "bd38e3a7-d610-4d26-a672-0590c5f3af89",
   "metadata": {},
   "outputs": [
    {
     "name": "stderr",
     "output_type": "stream",
     "text": [
      "C:\\Anaconda\\Lib\\site-packages\\sklearn\\base.py:486: UserWarning: X has feature names, but GradientBoostingRegressor was fitted without feature names\n",
      "  warnings.warn(\n"
     ]
    }
   ],
   "source": [
    "# Sample new data input (replace this with actual input)\n",
    "new_data = pd.DataFrame([{\n",
    "    'Fan': 8,\n",
    "    'Refrigerator': 3,\n",
    "    'AirConditioner': 2,\n",
    "    'Television': 1,\n",
    "    'Monitor': 5,\n",
    "    'MotorPump': 8,\n",
    "    'Month': 7,\n",
    "    'MonthlyHours': 600,\n",
    "    'TariffRate': 9.8,\n",
    "    \n",
    "}])\n",
    "\n",
    "\n",
    "# Extract only selected features\n",
    "X_new = new_data[selected_features]\n",
    "\n",
    "# Predict\n",
    "result = loaded_model.predict(X_new)[0]"
   ]
  },
  {
   "cell_type": "code",
   "execution_count": 39,
   "id": "c753f3e6-6501-4119-8366-b00bb882168c",
   "metadata": {},
   "outputs": [
    {
     "data": {
      "text/plain": [
       "5568.829070662388"
      ]
     },
     "execution_count": 39,
     "metadata": {},
     "output_type": "execute_result"
    }
   ],
   "source": [
    "result"
   ]
  },
  {
   "cell_type": "code",
   "execution_count": null,
   "id": "33e6bbce-62fe-45f3-8bc5-1dbfa382317a",
   "metadata": {},
   "outputs": [],
   "source": []
  }
 ],
 "metadata": {
  "kernelspec": {
   "display_name": "Python [conda env:base] *",
   "language": "python",
   "name": "conda-base-py"
  },
  "language_info": {
   "codemirror_mode": {
    "name": "ipython",
    "version": 3
   },
   "file_extension": ".py",
   "mimetype": "text/x-python",
   "name": "python",
   "nbconvert_exporter": "python",
   "pygments_lexer": "ipython3",
   "version": "3.12.7"
  }
 },
 "nbformat": 4,
 "nbformat_minor": 5
}
